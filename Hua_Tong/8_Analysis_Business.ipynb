{
 "cells": [
  {
   "cell_type": "markdown",
   "metadata": {},
   "source": [
    "# Analysis Business in R\n",
    "\n",
    "This code is main edited by Hua Tong\n",
    "\n",
    "# Attention\n",
    "\n",
    "Please put four .csv file in data folder and put this code in main folder instead of code folder.\n",
    "\n",
    "This code want to do test for business attribute on whether add some service can add star rating. \n"
   ]
  },
  {
   "cell_type": "code",
   "execution_count": 7,
   "metadata": {},
   "outputs": [
    {
     "data": {
      "text/html": [
       "<table>\n",
       "<caption>A data.frame: 6 × 39</caption>\n",
       "<thead>\n",
       "\t<tr><th></th><th scope=col>city</th><th scope=col>stars</th><th scope=col>review_count</th><th scope=col>Alcohol</th><th scope=col>Ambience</th><th scope=col>BikeParking</th><th scope=col>BusinessAcceptsCreditCards</th><th scope=col>Caters</th><th scope=col>GoodForKids</th><th scope=col>HasTV</th><th scope=col>⋯</th><th scope=col>BusinessParking_valet</th><th scope=col>BusinessParking_validated</th><th scope=col>BusinessParking</th><th scope=col>GoodForMeal</th><th scope=col>GoodForMeal_breakfast</th><th scope=col>GoodForMeal_brunch</th><th scope=col>GoodForMeal_dessert</th><th scope=col>GoodForMeal_dinner</th><th scope=col>GoodForMeal_lunch</th><th scope=col>GoodForMeal_latenight</th></tr>\n",
       "\t<tr><th></th><th scope=col>&lt;chr&gt;</th><th scope=col>&lt;dbl&gt;</th><th scope=col>&lt;int&gt;</th><th scope=col>&lt;chr&gt;</th><th scope=col>&lt;chr&gt;</th><th scope=col>&lt;chr&gt;</th><th scope=col>&lt;chr&gt;</th><th scope=col>&lt;chr&gt;</th><th scope=col>&lt;chr&gt;</th><th scope=col>&lt;chr&gt;</th><th scope=col>⋯</th><th scope=col>&lt;chr&gt;</th><th scope=col>&lt;chr&gt;</th><th scope=col>&lt;chr&gt;</th><th scope=col>&lt;chr&gt;</th><th scope=col>&lt;chr&gt;</th><th scope=col>&lt;chr&gt;</th><th scope=col>&lt;chr&gt;</th><th scope=col>&lt;chr&gt;</th><th scope=col>&lt;chr&gt;</th><th scope=col>&lt;chr&gt;</th></tr>\n",
       "</thead>\n",
       "<tbody>\n",
       "\t<tr><th scope=row>1</th><td>Pittsburgh</td><td>4.0</td><td>31</td><td>None         </td><td>      </td><td>True</td><td>True</td><td>     </td><td>True</td><td>True</td><td>⋯</td><td>False</td><td>False</td><td>   </td><td>            </td><td>     </td><td>     </td><td>     </td><td>    </td><td>    </td><td>     </td></tr>\n",
       "\t<tr><th scope=row>2</th><td>Cleveland </td><td>2.5</td><td>11</td><td>             </td><td>      </td><td>    </td><td>True</td><td>     </td><td>True</td><td>    </td><td>⋯</td><td>     </td><td>     </td><td>   </td><td>            </td><td>     </td><td>     </td><td>     </td><td>    </td><td>    </td><td>     </td></tr>\n",
       "\t<tr><th scope=row>3</th><td>Cleveland </td><td>4.5</td><td>21</td><td>None         </td><td>      </td><td>True</td><td>True</td><td>True </td><td>True</td><td>True</td><td>⋯</td><td>False</td><td>False</td><td>   </td><td>            </td><td>     </td><td>     </td><td>     </td><td>    </td><td>    </td><td>     </td></tr>\n",
       "\t<tr><th scope=row>4</th><td>Pittsburgh</td><td>2.0</td><td>14</td><td>beer_and_wine</td><td>classy</td><td>    </td><td>True</td><td>False</td><td>True</td><td>True</td><td>⋯</td><td>False</td><td>False</td><td>lot</td><td>            </td><td>     </td><td>     </td><td>     </td><td>    </td><td>    </td><td>     </td></tr>\n",
       "\t<tr><th scope=row>5</th><td>Madison   </td><td>4.5</td><td>60</td><td>beer_and_wine</td><td>casual</td><td>True</td><td>True</td><td>True </td><td>True</td><td>True</td><td>⋯</td><td>False</td><td>False</td><td>lot</td><td>lunch dinner</td><td>False</td><td>False</td><td>False</td><td>True</td><td>True</td><td>False</td></tr>\n",
       "\t<tr><th scope=row>6</th><td>Cleveland </td><td>3.5</td><td> 5</td><td>             </td><td>      </td><td>    </td><td>    </td><td>     </td><td>True</td><td>    </td><td>⋯</td><td>False</td><td>False</td><td>lot</td><td>            </td><td>     </td><td>     </td><td>     </td><td>    </td><td>    </td><td>     </td></tr>\n",
       "</tbody>\n",
       "</table>\n"
      ],
      "text/latex": [
       "A data.frame: 6 × 39\n",
       "\\begin{tabular}{r|lllllllllllllllllllll}\n",
       "  & city & stars & review\\_count & Alcohol & Ambience & BikeParking & BusinessAcceptsCreditCards & Caters & GoodForKids & HasTV & ⋯ & BusinessParking\\_valet & BusinessParking\\_validated & BusinessParking & GoodForMeal & GoodForMeal\\_breakfast & GoodForMeal\\_brunch & GoodForMeal\\_dessert & GoodForMeal\\_dinner & GoodForMeal\\_lunch & GoodForMeal\\_latenight\\\\\n",
       "  & <chr> & <dbl> & <int> & <chr> & <chr> & <chr> & <chr> & <chr> & <chr> & <chr> & ⋯ & <chr> & <chr> & <chr> & <chr> & <chr> & <chr> & <chr> & <chr> & <chr> & <chr>\\\\\n",
       "\\hline\n",
       "\t1 & Pittsburgh & 4.0 & 31 & None          &        & True & True &       & True & True & ⋯ & False & False &     &              &       &       &       &      &      &      \\\\\n",
       "\t2 & Cleveland  & 2.5 & 11 &               &        &      & True &       & True &      & ⋯ &       &       &     &              &       &       &       &      &      &      \\\\\n",
       "\t3 & Cleveland  & 4.5 & 21 & None          &        & True & True & True  & True & True & ⋯ & False & False &     &              &       &       &       &      &      &      \\\\\n",
       "\t4 & Pittsburgh & 2.0 & 14 & beer\\_and\\_wine & classy &      & True & False & True & True & ⋯ & False & False & lot &              &       &       &       &      &      &      \\\\\n",
       "\t5 & Madison    & 4.5 & 60 & beer\\_and\\_wine & casual & True & True & True  & True & True & ⋯ & False & False & lot & lunch dinner & False & False & False & True & True & False\\\\\n",
       "\t6 & Cleveland  & 3.5 &  5 &               &        &      &      &       & True &      & ⋯ & False & False & lot &              &       &       &       &      &      &      \\\\\n",
       "\\end{tabular}\n"
      ],
      "text/markdown": [
       "\n",
       "A data.frame: 6 × 39\n",
       "\n",
       "| <!--/--> | city &lt;chr&gt; | stars &lt;dbl&gt; | review_count &lt;int&gt; | Alcohol &lt;chr&gt; | Ambience &lt;chr&gt; | BikeParking &lt;chr&gt; | BusinessAcceptsCreditCards &lt;chr&gt; | Caters &lt;chr&gt; | GoodForKids &lt;chr&gt; | HasTV &lt;chr&gt; | ⋯ ⋯ | BusinessParking_valet &lt;chr&gt; | BusinessParking_validated &lt;chr&gt; | BusinessParking &lt;chr&gt; | GoodForMeal &lt;chr&gt; | GoodForMeal_breakfast &lt;chr&gt; | GoodForMeal_brunch &lt;chr&gt; | GoodForMeal_dessert &lt;chr&gt; | GoodForMeal_dinner &lt;chr&gt; | GoodForMeal_lunch &lt;chr&gt; | GoodForMeal_latenight &lt;chr&gt; |\n",
       "|---|---|---|---|---|---|---|---|---|---|---|---|---|---|---|---|---|---|---|---|---|---|\n",
       "| 1 | Pittsburgh | 4.0 | 31 | None          | <!----> | True | True | <!----> | True | True | ⋯ | False | False | <!----> | <!----> | <!----> | <!----> | <!----> | <!----> | <!----> | <!----> |\n",
       "| 2 | Cleveland  | 2.5 | 11 | <!----> | <!----> | <!----> | True | <!----> | True | <!----> | ⋯ | <!----> | <!----> | <!----> | <!----> | <!----> | <!----> | <!----> | <!----> | <!----> | <!----> |\n",
       "| 3 | Cleveland  | 4.5 | 21 | None          | <!----> | True | True | True  | True | True | ⋯ | False | False | <!----> | <!----> | <!----> | <!----> | <!----> | <!----> | <!----> | <!----> |\n",
       "| 4 | Pittsburgh | 2.0 | 14 | beer_and_wine | classy | <!----> | True | False | True | True | ⋯ | False | False | lot | <!----> | <!----> | <!----> | <!----> | <!----> | <!----> | <!----> |\n",
       "| 5 | Madison    | 4.5 | 60 | beer_and_wine | casual | True | True | True  | True | True | ⋯ | False | False | lot | lunch dinner | False | False | False | True | True | False |\n",
       "| 6 | Cleveland  | 3.5 |  5 | <!----> | <!----> | <!----> | <!----> | <!----> | True | <!----> | ⋯ | False | False | lot | <!----> | <!----> | <!----> | <!----> | <!----> | <!----> | <!----> |\n",
       "\n"
      ],
      "text/plain": [
       "  city       stars review_count Alcohol       Ambience BikeParking\n",
       "1 Pittsburgh 4.0   31           None                   True       \n",
       "2 Cleveland  2.5   11                                             \n",
       "3 Cleveland  4.5   21           None                   True       \n",
       "4 Pittsburgh 2.0   14           beer_and_wine classy              \n",
       "5 Madison    4.5   60           beer_and_wine casual   True       \n",
       "6 Cleveland  3.5    5                                             \n",
       "  BusinessAcceptsCreditCards Caters GoodForKids HasTV ⋯ BusinessParking_valet\n",
       "1 True                              True        True  ⋯ False                \n",
       "2 True                              True              ⋯                      \n",
       "3 True                       True   True        True  ⋯ False                \n",
       "4 True                       False  True        True  ⋯ False                \n",
       "5 True                       True   True        True  ⋯ False                \n",
       "6                                   True              ⋯ False                \n",
       "  BusinessParking_validated BusinessParking GoodForMeal  GoodForMeal_breakfast\n",
       "1 False                                                                       \n",
       "2                                                                             \n",
       "3 False                                                                       \n",
       "4 False                     lot                                               \n",
       "5 False                     lot             lunch dinner False                \n",
       "6 False                     lot                                               \n",
       "  GoodForMeal_brunch GoodForMeal_dessert GoodForMeal_dinner GoodForMeal_lunch\n",
       "1                                                                            \n",
       "2                                                                            \n",
       "3                                                                            \n",
       "4                                                                            \n",
       "5 False              False               True               True             \n",
       "6                                                                            \n",
       "  GoodForMeal_latenight\n",
       "1                      \n",
       "2                      \n",
       "3                      \n",
       "4                      \n",
       "5 False                \n",
       "6                      "
      ]
     },
     "metadata": {},
     "output_type": "display_data"
    },
    {
     "data": {
      "text/html": [
       "<table>\n",
       "<caption>A data.frame: 6 × 39</caption>\n",
       "<thead>\n",
       "\t<tr><th></th><th scope=col>city</th><th scope=col>stars</th><th scope=col>review_count</th><th scope=col>Alcohol</th><th scope=col>Ambience</th><th scope=col>BikeParking</th><th scope=col>BusinessAcceptsCreditCards</th><th scope=col>Caters</th><th scope=col>GoodForKids</th><th scope=col>HasTV</th><th scope=col>⋯</th><th scope=col>BusinessParking_valet</th><th scope=col>BusinessParking_validated</th><th scope=col>BusinessParking</th><th scope=col>GoodForMeal</th><th scope=col>GoodForMeal_breakfast</th><th scope=col>GoodForMeal_brunch</th><th scope=col>GoodForMeal_dessert</th><th scope=col>GoodForMeal_dinner</th><th scope=col>GoodForMeal_lunch</th><th scope=col>GoodForMeal_latenight</th></tr>\n",
       "\t<tr><th></th><th scope=col>&lt;chr&gt;</th><th scope=col>&lt;dbl&gt;</th><th scope=col>&lt;int&gt;</th><th scope=col>&lt;chr&gt;</th><th scope=col>&lt;chr&gt;</th><th scope=col>&lt;chr&gt;</th><th scope=col>&lt;chr&gt;</th><th scope=col>&lt;chr&gt;</th><th scope=col>&lt;chr&gt;</th><th scope=col>&lt;chr&gt;</th><th scope=col>⋯</th><th scope=col>&lt;chr&gt;</th><th scope=col>&lt;chr&gt;</th><th scope=col>&lt;chr&gt;</th><th scope=col>&lt;chr&gt;</th><th scope=col>&lt;chr&gt;</th><th scope=col>&lt;chr&gt;</th><th scope=col>&lt;chr&gt;</th><th scope=col>&lt;chr&gt;</th><th scope=col>&lt;chr&gt;</th><th scope=col>&lt;chr&gt;</th></tr>\n",
       "</thead>\n",
       "<tbody>\n",
       "\t<tr><th scope=row>1555</th><td>Cleveland       </td><td>5.0</td><td> 3</td><td>        </td><td></td><td>     </td><td>True</td><td>     </td><td>    </td><td>     </td><td>⋯</td><td>     </td><td>     </td><td>      </td><td>            </td><td>     </td><td>     </td><td>     </td><td>    </td><td>    </td><td>     </td></tr>\n",
       "\t<tr><th scope=row>1556</th><td>Urbana-Champaign</td><td>3.5</td><td>55</td><td>None    </td><td></td><td>     </td><td>True</td><td>     </td><td>True</td><td>True </td><td>⋯</td><td>False</td><td>False</td><td>      </td><td>            </td><td>     </td><td>     </td><td>     </td><td>    </td><td>    </td><td>     </td></tr>\n",
       "\t<tr><th scope=row>1557</th><td>Cleveland       </td><td>3.0</td><td>10</td><td>None    </td><td></td><td>False</td><td>True</td><td>True </td><td>True</td><td>True </td><td>⋯</td><td>False</td><td>False</td><td>      </td><td>lunch dinner</td><td>False</td><td>False</td><td>False</td><td>True</td><td>True</td><td>False</td></tr>\n",
       "\t<tr><th scope=row>1558</th><td>Cleveland       </td><td>3.0</td><td>12</td><td>None    </td><td></td><td>False</td><td>True</td><td>     </td><td>True</td><td>True </td><td>⋯</td><td>False</td><td>False</td><td>      </td><td>            </td><td>     </td><td>     </td><td>     </td><td>    </td><td>    </td><td>     </td></tr>\n",
       "\t<tr><th scope=row>1559</th><td>Pittsburgh      </td><td>4.0</td><td>39</td><td>None    </td><td></td><td>True </td><td>True</td><td>True </td><td>True</td><td>False</td><td>⋯</td><td>False</td><td>False</td><td>street</td><td>lunch dinner</td><td>False</td><td>False</td><td>False</td><td>True</td><td>True</td><td>False</td></tr>\n",
       "\t<tr><th scope=row>1560</th><td>Madison         </td><td>2.5</td><td>19</td><td>full_bar</td><td></td><td>True </td><td>True</td><td>False</td><td>True</td><td>True </td><td>⋯</td><td>False</td><td>False</td><td>      </td><td>            </td><td>     </td><td>     </td><td>     </td><td>    </td><td>    </td><td>     </td></tr>\n",
       "</tbody>\n",
       "</table>\n"
      ],
      "text/latex": [
       "A data.frame: 6 × 39\n",
       "\\begin{tabular}{r|lllllllllllllllllllll}\n",
       "  & city & stars & review\\_count & Alcohol & Ambience & BikeParking & BusinessAcceptsCreditCards & Caters & GoodForKids & HasTV & ⋯ & BusinessParking\\_valet & BusinessParking\\_validated & BusinessParking & GoodForMeal & GoodForMeal\\_breakfast & GoodForMeal\\_brunch & GoodForMeal\\_dessert & GoodForMeal\\_dinner & GoodForMeal\\_lunch & GoodForMeal\\_latenight\\\\\n",
       "  & <chr> & <dbl> & <int> & <chr> & <chr> & <chr> & <chr> & <chr> & <chr> & <chr> & ⋯ & <chr> & <chr> & <chr> & <chr> & <chr> & <chr> & <chr> & <chr> & <chr> & <chr>\\\\\n",
       "\\hline\n",
       "\t1555 & Cleveland        & 5.0 &  3 &          &  &       & True &       &      &       & ⋯ &       &       &        &              &       &       &       &      &      &      \\\\\n",
       "\t1556 & Urbana-Champaign & 3.5 & 55 & None     &  &       & True &       & True & True  & ⋯ & False & False &        &              &       &       &       &      &      &      \\\\\n",
       "\t1557 & Cleveland        & 3.0 & 10 & None     &  & False & True & True  & True & True  & ⋯ & False & False &        & lunch dinner & False & False & False & True & True & False\\\\\n",
       "\t1558 & Cleveland        & 3.0 & 12 & None     &  & False & True &       & True & True  & ⋯ & False & False &        &              &       &       &       &      &      &      \\\\\n",
       "\t1559 & Pittsburgh       & 4.0 & 39 & None     &  & True  & True & True  & True & False & ⋯ & False & False & street & lunch dinner & False & False & False & True & True & False\\\\\n",
       "\t1560 & Madison          & 2.5 & 19 & full\\_bar &  & True  & True & False & True & True  & ⋯ & False & False &        &              &       &       &       &      &      &      \\\\\n",
       "\\end{tabular}\n"
      ],
      "text/markdown": [
       "\n",
       "A data.frame: 6 × 39\n",
       "\n",
       "| <!--/--> | city &lt;chr&gt; | stars &lt;dbl&gt; | review_count &lt;int&gt; | Alcohol &lt;chr&gt; | Ambience &lt;chr&gt; | BikeParking &lt;chr&gt; | BusinessAcceptsCreditCards &lt;chr&gt; | Caters &lt;chr&gt; | GoodForKids &lt;chr&gt; | HasTV &lt;chr&gt; | ⋯ ⋯ | BusinessParking_valet &lt;chr&gt; | BusinessParking_validated &lt;chr&gt; | BusinessParking &lt;chr&gt; | GoodForMeal &lt;chr&gt; | GoodForMeal_breakfast &lt;chr&gt; | GoodForMeal_brunch &lt;chr&gt; | GoodForMeal_dessert &lt;chr&gt; | GoodForMeal_dinner &lt;chr&gt; | GoodForMeal_lunch &lt;chr&gt; | GoodForMeal_latenight &lt;chr&gt; |\n",
       "|---|---|---|---|---|---|---|---|---|---|---|---|---|---|---|---|---|---|---|---|---|---|\n",
       "| 1555 | Cleveland        | 5.0 |  3 | <!----> | <!----> | <!----> | True | <!----> | <!----> | <!----> | ⋯ | <!----> | <!----> | <!----> | <!----> | <!----> | <!----> | <!----> | <!----> | <!----> | <!----> |\n",
       "| 1556 | Urbana-Champaign | 3.5 | 55 | None     | <!----> | <!----> | True | <!----> | True | True  | ⋯ | False | False | <!----> | <!----> | <!----> | <!----> | <!----> | <!----> | <!----> | <!----> |\n",
       "| 1557 | Cleveland        | 3.0 | 10 | None     | <!----> | False | True | True  | True | True  | ⋯ | False | False | <!----> | lunch dinner | False | False | False | True | True | False |\n",
       "| 1558 | Cleveland        | 3.0 | 12 | None     | <!----> | False | True | <!----> | True | True  | ⋯ | False | False | <!----> | <!----> | <!----> | <!----> | <!----> | <!----> | <!----> | <!----> |\n",
       "| 1559 | Pittsburgh       | 4.0 | 39 | None     | <!----> | True  | True | True  | True | False | ⋯ | False | False | street | lunch dinner | False | False | False | True | True | False |\n",
       "| 1560 | Madison          | 2.5 | 19 | full_bar | <!----> | True  | True | False | True | True  | ⋯ | False | False | <!----> | <!----> | <!----> | <!----> | <!----> | <!----> | <!----> | <!----> |\n",
       "\n"
      ],
      "text/plain": [
       "     city             stars review_count Alcohol  Ambience BikeParking\n",
       "1555 Cleveland        5.0    3                                        \n",
       "1556 Urbana-Champaign 3.5   55           None                         \n",
       "1557 Cleveland        3.0   10           None              False      \n",
       "1558 Cleveland        3.0   12           None              False      \n",
       "1559 Pittsburgh       4.0   39           None              True       \n",
       "1560 Madison          2.5   19           full_bar          True       \n",
       "     BusinessAcceptsCreditCards Caters GoodForKids HasTV ⋯\n",
       "1555 True                                                ⋯\n",
       "1556 True                              True        True  ⋯\n",
       "1557 True                       True   True        True  ⋯\n",
       "1558 True                              True        True  ⋯\n",
       "1559 True                       True   True        False ⋯\n",
       "1560 True                       False  True        True  ⋯\n",
       "     BusinessParking_valet BusinessParking_validated BusinessParking\n",
       "1555                                                                \n",
       "1556 False                 False                                    \n",
       "1557 False                 False                                    \n",
       "1558 False                 False                                    \n",
       "1559 False                 False                     street         \n",
       "1560 False                 False                                    \n",
       "     GoodForMeal  GoodForMeal_breakfast GoodForMeal_brunch GoodForMeal_dessert\n",
       "1555                                                                          \n",
       "1556                                                                          \n",
       "1557 lunch dinner False                 False              False              \n",
       "1558                                                                          \n",
       "1559 lunch dinner False                 False              False              \n",
       "1560                                                                          \n",
       "     GoodForMeal_dinner GoodForMeal_lunch GoodForMeal_latenight\n",
       "1555                                                           \n",
       "1556                                                           \n",
       "1557 True               True              False                \n",
       "1558                                                           \n",
       "1559 True               True              False                \n",
       "1560                                                           "
      ]
     },
     "metadata": {},
     "output_type": "display_data"
    },
    {
     "data": {
      "text/plain": [
       "     city               stars        review_count      Alcohol         \n",
       " Length:1560        Min.   :1.000   Min.   :  3.00   Length:1560       \n",
       " Class :character   1st Qu.:3.000   1st Qu.:  8.00   Class :character  \n",
       " Mode  :character   Median :3.500   Median : 18.00   Mode  :character  \n",
       "                    Mean   :3.361   Mean   : 41.44                     \n",
       "                    3rd Qu.:4.000   3rd Qu.: 46.00                     \n",
       "                    Max.   :5.000   Max.   :834.00                     \n",
       "   Ambience         BikeParking        BusinessAcceptsCreditCards\n",
       " Length:1560        Length:1560        Length:1560               \n",
       " Class :character   Class :character   Class :character          \n",
       " Mode  :character   Mode  :character   Mode  :character          \n",
       "                                                                 \n",
       "                                                                 \n",
       "                                                                 \n",
       "    Caters          GoodForKids           HasTV            NoiseLevel       \n",
       " Length:1560        Length:1560        Length:1560        Length:1560       \n",
       " Class :character   Class :character   Class :character   Class :character  \n",
       " Mode  :character   Mode  :character   Mode  :character   Mode  :character  \n",
       "                                                                            \n",
       "                                                                            \n",
       "                                                                            \n",
       " OutdoorSeating     RestaurantsAttire  RestaurantsDelivery\n",
       " Length:1560        Length:1560        Length:1560        \n",
       " Class :character   Class :character   Class :character   \n",
       " Mode  :character   Mode  :character   Mode  :character   \n",
       "                                                          \n",
       "                                                          \n",
       "                                                          \n",
       " RestaurantsGoodForGroups RestaurantsReservations RestaurantsTakeOut\n",
       " Length:1560              Length:1560             Length:1560       \n",
       " Class :character         Class :character        Class :character  \n",
       " Mode  :character         Mode  :character        Mode  :character  \n",
       "                                                                    \n",
       "                                                                    \n",
       "                                                                    \n",
       "     WiFi           Ambience_casual    Ambience_classy    Ambience_divey    \n",
       " Length:1560        Length:1560        Length:1560        Length:1560       \n",
       " Class :character   Class :character   Class :character   Class :character  \n",
       " Mode  :character   Mode  :character   Mode  :character   Mode  :character  \n",
       "                                                                            \n",
       "                                                                            \n",
       "                                                                            \n",
       " Ambience_hipster   Ambience_intimate  Ambience_romantic  Ambience_trendy   \n",
       " Length:1560        Length:1560        Length:1560        Length:1560       \n",
       " Class :character   Class :character   Class :character   Class :character  \n",
       " Mode  :character   Mode  :character   Mode  :character   Mode  :character  \n",
       "                                                                            \n",
       "                                                                            \n",
       "                                                                            \n",
       " Ambience_upscale   BusinessParking_garage BusinessParking_lot\n",
       " Length:1560        Length:1560            Length:1560        \n",
       " Class :character   Class :character       Class :character   \n",
       " Mode  :character   Mode  :character       Mode  :character   \n",
       "                                                              \n",
       "                                                              \n",
       "                                                              \n",
       " BusinessParking_street BusinessParking_valet BusinessParking_validated\n",
       " Length:1560            Length:1560           Length:1560              \n",
       " Class :character       Class :character      Class :character         \n",
       " Mode  :character       Mode  :character      Mode  :character         \n",
       "                                                                       \n",
       "                                                                       \n",
       "                                                                       \n",
       " BusinessParking    GoodForMeal        GoodForMeal_breakfast GoodForMeal_brunch\n",
       " Length:1560        Length:1560        Length:1560           Length:1560       \n",
       " Class :character   Class :character   Class :character      Class :character  \n",
       " Mode  :character   Mode  :character   Mode  :character      Mode  :character  \n",
       "                                                                               \n",
       "                                                                               \n",
       "                                                                               \n",
       " GoodForMeal_dessert GoodForMeal_dinner GoodForMeal_lunch \n",
       " Length:1560         Length:1560        Length:1560       \n",
       " Class :character    Class :character   Class :character  \n",
       " Mode  :character    Mode  :character   Mode  :character  \n",
       "                                                          \n",
       "                                                          \n",
       "                                                          \n",
       " GoodForMeal_latenight\n",
       " Length:1560          \n",
       " Class :character     \n",
       " Mode  :character     \n",
       "                      \n",
       "                      \n",
       "                      "
      ]
     },
     "metadata": {},
     "output_type": "display_data"
    },
    {
     "data": {
      "image/png": "[encoded data removed]",
      "text/plain": [
       "Plot with title “Histogram of bus$stars”"
      ]
     },
     "metadata": {
      "image/png": {
       "height": 420,
       "width": 420
      }
     },
     "output_type": "display_data"
    }
   ],
   "source": [
    "bus=read.csv(\"data/pizza_business.csv\")\n",
    "#Remove unnecessary variables\n",
    "bus=bus[,-c(1,2,3,4,6,7,10,26:32)]\n",
    "#Explore the data\n",
    "head(bus)\n",
    "tail(bus)\n",
    "summary(bus)\n",
    "hist(bus$stars)\n",
    "\n",
    "attach(bus)"
   ]
  },
  {
   "cell_type": "markdown",
   "metadata": {},
   "source": [
    "Searching for factors that affect the stars:"
   ]
  },
  {
   "cell_type": "markdown",
   "metadata": {},
   "source": [
    "# City"
   ]
  },
  {
   "cell_type": "code",
   "execution_count": 8,
   "metadata": {},
   "outputs": [
    {
     "data": {
      "text/html": [
       "0"
      ],
      "text/latex": [
       "0"
      ],
      "text/markdown": [
       "0"
      ],
      "text/plain": [
       "[1] 0"
      ]
     },
     "metadata": {},
     "output_type": "display_data"
    },
    {
     "data": {
      "text/html": [
       "<table>\n",
       "<caption>A data.frame: 4 × 2</caption>\n",
       "<thead>\n",
       "\t<tr><th scope=col>Cities</th><th scope=col>x</th></tr>\n",
       "\t<tr><th scope=col>&lt;chr&gt;</th><th scope=col>&lt;dbl&gt;</th></tr>\n",
       "</thead>\n",
       "<tbody>\n",
       "\t<tr><td>Cleveland       </td><td>3.340108</td></tr>\n",
       "\t<tr><td>Madison         </td><td>3.234483</td></tr>\n",
       "\t<tr><td>Pittsburgh      </td><td>3.430533</td></tr>\n",
       "\t<tr><td>Urbana-Champaign</td><td>3.189655</td></tr>\n",
       "</tbody>\n",
       "</table>\n"
      ],
      "text/latex": [
       "A data.frame: 4 × 2\n",
       "\\begin{tabular}{ll}\n",
       " Cities & x\\\\\n",
       " <chr> & <dbl>\\\\\n",
       "\\hline\n",
       "\t Cleveland        & 3.340108\\\\\n",
       "\t Madison          & 3.234483\\\\\n",
       "\t Pittsburgh       & 3.430533\\\\\n",
       "\t Urbana-Champaign & 3.189655\\\\\n",
       "\\end{tabular}\n"
      ],
      "text/markdown": [
       "\n",
       "A data.frame: 4 × 2\n",
       "\n",
       "| Cities &lt;chr&gt; | x &lt;dbl&gt; |\n",
       "|---|---|\n",
       "| Cleveland        | 3.340108 |\n",
       "| Madison          | 3.234483 |\n",
       "| Pittsburgh       | 3.430533 |\n",
       "| Urbana-Champaign | 3.189655 |\n",
       "\n"
      ],
      "text/plain": [
       "  Cities           x       \n",
       "1 Cleveland        3.340108\n",
       "2 Madison          3.234483\n",
       "3 Pittsburgh       3.430533\n",
       "4 Urbana-Champaign 3.189655"
      ]
     },
     "metadata": {},
     "output_type": "display_data"
    },
    {
     "data": {
      "text/html": [
       "<table>\n",
       "<caption>A anova: 2 × 5</caption>\n",
       "<thead>\n",
       "\t<tr><th></th><th scope=col>Df</th><th scope=col>Sum Sq</th><th scope=col>Mean Sq</th><th scope=col>F value</th><th scope=col>Pr(&gt;F)</th></tr>\n",
       "\t<tr><th></th><th scope=col>&lt;int&gt;</th><th scope=col>&lt;dbl&gt;</th><th scope=col>&lt;dbl&gt;</th><th scope=col>&lt;dbl&gt;</th><th scope=col>&lt;dbl&gt;</th></tr>\n",
       "</thead>\n",
       "<tbody>\n",
       "\t<tr><th scope=row>city</th><td>   3</td><td>   7.338386</td><td>2.4461287</td><td>3.700393</td><td>0.01137788</td></tr>\n",
       "\t<tr><th scope=row>Residuals</th><td>1556</td><td>1028.587095</td><td>0.6610457</td><td>      NA</td><td>        NA</td></tr>\n",
       "</tbody>\n",
       "</table>\n"
      ],
      "text/latex": [
       "A anova: 2 × 5\n",
       "\\begin{tabular}{r|lllll}\n",
       "  & Df & Sum Sq & Mean Sq & F value & Pr(>F)\\\\\n",
       "  & <int> & <dbl> & <dbl> & <dbl> & <dbl>\\\\\n",
       "\\hline\n",
       "\tcity &    3 &    7.338386 & 2.4461287 & 3.700393 & 0.01137788\\\\\n",
       "\tResiduals & 1556 & 1028.587095 & 0.6610457 &       NA &         NA\\\\\n",
       "\\end{tabular}\n"
      ],
      "text/markdown": [
       "\n",
       "A anova: 2 × 5\n",
       "\n",
       "| <!--/--> | Df &lt;int&gt; | Sum Sq &lt;dbl&gt; | Mean Sq &lt;dbl&gt; | F value &lt;dbl&gt; | Pr(&gt;F) &lt;dbl&gt; |\n",
       "|---|---|---|---|---|---|\n",
       "| city |    3 |    7.338386 | 2.4461287 | 3.700393 | 0.01137788 |\n",
       "| Residuals | 1556 | 1028.587095 | 0.6610457 |       NA |         NA |\n",
       "\n"
      ],
      "text/plain": [
       "          Df   Sum Sq      Mean Sq   F value  Pr(>F)    \n",
       "city         3    7.338386 2.4461287 3.700393 0.01137788\n",
       "Residuals 1556 1028.587095 0.6610457       NA         NA"
      ]
     },
     "metadata": {},
     "output_type": "display_data"
    }
   ],
   "source": [
    "\n",
    "sum(city=='')\n",
    "aggregate(stars,list(Cities=city),mean)\n",
    "anova(lm(stars~city))"
   ]
  },
  {
   "cell_type": "markdown",
   "metadata": {},
   "source": [
    "The mean ratings of pizza restaurants in different cities are not equal. The area with lowest and highest ratings are Urbana-Champaign (3.19 stars) and Pittsburgh (3.43 stars)."
   ]
  },
  {
   "cell_type": "markdown",
   "metadata": {},
   "source": [
    "# Alcohol"
   ]
  },
  {
   "cell_type": "code",
   "execution_count": 11,
   "metadata": {},
   "outputs": [
    {
     "data": {
      "text/html": [
       "448"
      ],
      "text/latex": [
       "448"
      ],
      "text/markdown": [
       "448"
      ],
      "text/plain": [
       "[1] 448"
      ]
     },
     "metadata": {},
     "output_type": "display_data"
    },
    {
     "data": {
      "text/html": [
       "<table>\n",
       "<caption>A data.frame: 3 × 2</caption>\n",
       "<thead>\n",
       "\t<tr><th scope=col>Alcohol</th><th scope=col>x</th></tr>\n",
       "\t<tr><th scope=col>&lt;chr&gt;</th><th scope=col>&lt;dbl&gt;</th></tr>\n",
       "</thead>\n",
       "<tbody>\n",
       "\t<tr><td>beer_and_wine</td><td>3.573333</td></tr>\n",
       "\t<tr><td>full_bar     </td><td>3.555385</td></tr>\n",
       "\t<tr><td>None         </td><td>3.387755</td></tr>\n",
       "</tbody>\n",
       "</table>\n"
      ],
      "text/latex": [
       "A data.frame: 3 × 2\n",
       "\\begin{tabular}{ll}\n",
       " Alcohol & x\\\\\n",
       " <chr> & <dbl>\\\\\n",
       "\\hline\n",
       "\t beer\\_and\\_wine & 3.573333\\\\\n",
       "\t full\\_bar      & 3.555385\\\\\n",
       "\t None          & 3.387755\\\\\n",
       "\\end{tabular}\n"
      ],
      "text/markdown": [
       "\n",
       "A data.frame: 3 × 2\n",
       "\n",
       "| Alcohol &lt;chr&gt; | x &lt;dbl&gt; |\n",
       "|---|---|\n",
       "| beer_and_wine | 3.573333 |\n",
       "| full_bar      | 3.555385 |\n",
       "| None          | 3.387755 |\n",
       "\n"
      ],
      "text/plain": [
       "  Alcohol       x       \n",
       "1 beer_and_wine 3.573333\n",
       "2 full_bar      3.555385\n",
       "3 None          3.387755"
      ]
     },
     "metadata": {},
     "output_type": "display_data"
    },
    {
     "data": {
      "text/html": [
       "<table>\n",
       "<caption>A anova: 2 × 5</caption>\n",
       "<thead>\n",
       "\t<tr><th></th><th scope=col>Df</th><th scope=col>Sum Sq</th><th scope=col>Mean Sq</th><th scope=col>F value</th><th scope=col>Pr(&gt;F)</th></tr>\n",
       "\t<tr><th></th><th scope=col>&lt;int&gt;</th><th scope=col>&lt;dbl&gt;</th><th scope=col>&lt;dbl&gt;</th><th scope=col>&lt;dbl&gt;</th><th scope=col>&lt;dbl&gt;</th></tr>\n",
       "</thead>\n",
       "<tbody>\n",
       "\t<tr><th scope=row>Alcohol[value]</th><td>   2</td><td>  8.204774</td><td>4.1023872</td><td>7.831613</td><td>0.0004193427</td></tr>\n",
       "\t<tr><th scope=row>Residuals</th><td>1109</td><td>580.920900</td><td>0.5238241</td><td>      NA</td><td>          NA</td></tr>\n",
       "</tbody>\n",
       "</table>\n"
      ],
      "text/latex": [
       "A anova: 2 × 5\n",
       "\\begin{tabular}{r|lllll}\n",
       "  & Df & Sum Sq & Mean Sq & F value & Pr(>F)\\\\\n",
       "  & <int> & <dbl> & <dbl> & <dbl> & <dbl>\\\\\n",
       "\\hline\n",
       "\tAlcohol{[}value{]} &    2 &   8.204774 & 4.1023872 & 7.831613 & 0.0004193427\\\\\n",
       "\tResiduals & 1109 & 580.920900 & 0.5238241 &       NA &           NA\\\\\n",
       "\\end{tabular}\n"
      ],
      "text/markdown": [
       "\n",
       "A anova: 2 × 5\n",
       "\n",
       "| <!--/--> | Df &lt;int&gt; | Sum Sq &lt;dbl&gt; | Mean Sq &lt;dbl&gt; | F value &lt;dbl&gt; | Pr(&gt;F) &lt;dbl&gt; |\n",
       "|---|---|---|---|---|---|\n",
       "| Alcohol[value] |    2 |   8.204774 | 4.1023872 | 7.831613 | 0.0004193427 |\n",
       "| Residuals | 1109 | 580.920900 | 0.5238241 |       NA |           NA |\n",
       "\n"
      ],
      "text/plain": [
       "               Df   Sum Sq     Mean Sq   F value  Pr(>F)      \n",
       "Alcohol[value]    2   8.204774 4.1023872 7.831613 0.0004193427\n",
       "Residuals      1109 580.920900 0.5238241       NA           NA"
      ]
     },
     "metadata": {},
     "output_type": "display_data"
    },
    {
     "data": {
      "text/plain": [
       "\n",
       "\tWelch Two Sample t-test\n",
       "\n",
       "data:  stars[Alcohol == \"beer_and_wine\"] and stars[Alcohol == \"full_bar\"]\n",
       "t = 0.28689, df = 254.6, p-value = 0.7744\n",
       "alternative hypothesis: true difference in means is not equal to 0\n",
       "95 percent confidence interval:\n",
       " -0.1052578  0.1411553\n",
       "sample estimates:\n",
       "mean of x mean of y \n",
       " 3.573333  3.555385 \n"
      ]
     },
     "metadata": {},
     "output_type": "display_data"
    },
    {
     "data": {
      "text/plain": [
       "\n",
       "\tWelch Two Sample t-test\n",
       "\n",
       "data:  stars[Alcohol == \"beer_and_wine\"] and stars[Alcohol == \"None\"]\n",
       "t = 2.96, df = 263.12, p-value = 0.003357\n",
       "alternative hypothesis: true difference in means is not equal to 0\n",
       "95 percent confidence interval:\n",
       " 0.0621294 0.3090271\n",
       "sample estimates:\n",
       "mean of x mean of y \n",
       " 3.573333  3.387755 \n"
      ]
     },
     "metadata": {},
     "output_type": "display_data"
    },
    {
     "data": {
      "text/plain": [
       "\n",
       "\tWelch Two Sample t-test\n",
       "\n",
       "data:  stars[Alcohol == \"None\"] and stars[Alcohol == \"full_bar\"]\n",
       "t = -3.7381, df = 863.18, p-value = 0.0001977\n",
       "alternative hypothesis: true difference in means is not equal to 0\n",
       "95 percent confidence interval:\n",
       " -0.25564555 -0.07961347\n",
       "sample estimates:\n",
       "mean of x mean of y \n",
       " 3.387755  3.555385 \n"
      ]
     },
     "metadata": {},
     "output_type": "display_data"
    },
    {
     "data": {
      "text/plain": [
       "\n",
       "\tWelch Two Sample t-test\n",
       "\n",
       "data:  stars[Alcohol == \"None\"] and stars[Alcohol == \"full_bar\" | Alcohol == \"beer_and_wine\"]\n",
       "t = -4.1193, df = 1110, p-value = 4.083e-05\n",
       "alternative hypothesis: true difference in means is not equal to 0\n",
       "95 percent confidence interval:\n",
       " -0.25584300 -0.09075206\n",
       "sample estimates:\n",
       "mean of x mean of y \n",
       " 3.387755  3.561053 \n"
      ]
     },
     "metadata": {},
     "output_type": "display_data"
    }
   ],
   "source": [
    "sum(Alcohol=='')\n",
    "value=which(Alcohol!='')\n",
    "aggregate(stars[value],list(Alcohol=Alcohol[value]),mean)\n",
    "anova(lm(stars[value]~Alcohol[value]))\n",
    "t.test(stars[Alcohol=='beer_and_wine'],stars[Alcohol=='full_bar'])\n",
    "t.test(stars[Alcohol=='beer_and_wine'],stars[Alcohol=='None'])\n",
    "t.test(stars[Alcohol=='None'],stars[Alcohol=='full_bar'])\n",
    "t.test(stars[Alcohol=='None'],stars[Alcohol=='full_bar'|Alcohol=='beer_and_wine'])"
   ]
  },
  {
   "cell_type": "markdown",
   "metadata": {},
   "source": [
    "The ANOVA table shows that the provision of alcohol could affect the ratings. There is no significant difference between offering 'beer and wine' and 'full bar'. But the restaurants that do not provide alcohol receive lower ratings (averaging -0.17 stars) than others."
   ]
  },
  {
   "cell_type": "markdown",
   "metadata": {},
   "source": [
    "# Bikeparking"
   ]
  },
  {
   "cell_type": "code",
   "execution_count": 27,
   "metadata": {},
   "outputs": [
    {
     "data": {
      "text/html": [
       "560"
      ],
      "text/latex": [
       "560"
      ],
      "text/markdown": [
       "560"
      ],
      "text/plain": [
       "[1] 560"
      ]
     },
     "metadata": {},
     "output_type": "display_data"
    },
    {
     "data": {
      "text/html": [
       "<table>\n",
       "<caption>A data.frame: 2 × 2</caption>\n",
       "<thead>\n",
       "\t<tr><th scope=col>BikeParking</th><th scope=col>x</th></tr>\n",
       "\t<tr><th scope=col>&lt;chr&gt;</th><th scope=col>&lt;dbl&gt;</th></tr>\n",
       "</thead>\n",
       "<tbody>\n",
       "\t<tr><td>False</td><td>3.366987</td></tr>\n",
       "\t<tr><td>True </td><td>3.556686</td></tr>\n",
       "</tbody>\n",
       "</table>\n"
      ],
      "text/latex": [
       "A data.frame: 2 × 2\n",
       "\\begin{tabular}{ll}\n",
       " BikeParking & x\\\\\n",
       " <chr> & <dbl>\\\\\n",
       "\\hline\n",
       "\t False & 3.366987\\\\\n",
       "\t True  & 3.556686\\\\\n",
       "\\end{tabular}\n"
      ],
      "text/markdown": [
       "\n",
       "A data.frame: 2 × 2\n",
       "\n",
       "| BikeParking &lt;chr&gt; | x &lt;dbl&gt; |\n",
       "|---|---|\n",
       "| False | 3.366987 |\n",
       "| True  | 3.556686 |\n",
       "\n"
      ],
      "text/plain": [
       "  BikeParking x       \n",
       "1 False       3.366987\n",
       "2 True        3.556686"
      ]
     },
     "metadata": {},
     "output_type": "display_data"
    },
    {
     "data": {
      "text/plain": [
       "\n",
       "\tWelch Two Sample t-test\n",
       "\n",
       "data:  stars[BikeParking == \"True\"] and stars[BikeParking == \"False\"]\n",
       "t = 3.8378, df = 536.42, p-value = 0.0001389\n",
       "alternative hypothesis: true difference in means is not equal to 0\n",
       "95 percent confidence interval:\n",
       " 0.09260122 0.28679652\n",
       "sample estimates:\n",
       "mean of x mean of y \n",
       " 3.556686  3.366987 \n"
      ]
     },
     "metadata": {},
     "output_type": "display_data"
    },
    {
     "data": {
      "text/plain": [
       "            Length Class  Mode     \n",
       "statistic   1      -none- numeric  \n",
       "parameter   1      -none- numeric  \n",
       "p.value     1      -none- numeric  \n",
       "conf.int    2      -none- numeric  \n",
       "estimate    2      -none- numeric  \n",
       "null.value  1      -none- numeric  \n",
       "stderr      1      -none- numeric  \n",
       "alternative 1      -none- character\n",
       "method      1      -none- character\n",
       "data.name   1      -none- character"
      ]
     },
     "metadata": {},
     "output_type": "display_data"
    }
   ],
   "source": [
    "sum(BikeParking=='')\n",
    "value=which(BikeParking!='')\n",
    "aggregate(stars[value],list(BikeParking=BikeParking[value]),mean)\n",
    "t.test(stars[BikeParking=='True'],stars[BikeParking=='False'])"
   ]
  },
  {
   "cell_type": "markdown",
   "metadata": {},
   "source": [
    "The restaurants with bike-parking areas are expected to receive ratings 0.19 stars higher than others.\n"
   ]
  },
  {
   "cell_type": "markdown",
   "metadata": {},
   "source": [
    "# Credit cards"
   ]
  },
  {
   "cell_type": "code",
   "execution_count": 13,
   "metadata": {},
   "outputs": [
    {
     "data": {
      "text/html": [
       "166"
      ],
      "text/latex": [
       "166"
      ],
      "text/markdown": [
       "166"
      ],
      "text/plain": [
       "[1] 166"
      ]
     },
     "metadata": {},
     "output_type": "display_data"
    },
    {
     "data": {
      "text/html": [
       "<table>\n",
       "<caption>A data.frame: 2 × 2</caption>\n",
       "<thead>\n",
       "\t<tr><th scope=col>CreditCard</th><th scope=col>x</th></tr>\n",
       "\t<tr><th scope=col>&lt;chr&gt;</th><th scope=col>&lt;dbl&gt;</th></tr>\n",
       "</thead>\n",
       "<tbody>\n",
       "\t<tr><td>False</td><td>3.776786</td></tr>\n",
       "\t<tr><td>True </td><td>3.353513</td></tr>\n",
       "</tbody>\n",
       "</table>\n"
      ],
      "text/latex": [
       "A data.frame: 2 × 2\n",
       "\\begin{tabular}{ll}\n",
       " CreditCard & x\\\\\n",
       " <chr> & <dbl>\\\\\n",
       "\\hline\n",
       "\t False & 3.776786\\\\\n",
       "\t True  & 3.353513\\\\\n",
       "\\end{tabular}\n"
      ],
      "text/markdown": [
       "\n",
       "A data.frame: 2 × 2\n",
       "\n",
       "| CreditCard &lt;chr&gt; | x &lt;dbl&gt; |\n",
       "|---|---|\n",
       "| False | 3.776786 |\n",
       "| True  | 3.353513 |\n",
       "\n"
      ],
      "text/plain": [
       "  CreditCard x       \n",
       "1 False      3.776786\n",
       "2 True       3.353513"
      ]
     },
     "metadata": {},
     "output_type": "display_data"
    },
    {
     "data": {
      "text/plain": [
       "\n",
       "\tWelch Two Sample t-test\n",
       "\n",
       "data:  stars[BusinessAcceptsCreditCards == \"True\"] and stars[BusinessAcceptsCreditCards == \"False\"]\n",
       "t = -4.3684, df = 60.981, p-value = 4.941e-05\n",
       "alternative hypothesis: true difference in means is not equal to 0\n",
       "95 percent confidence interval:\n",
       " -0.6170245 -0.2295215\n",
       "sample estimates:\n",
       "mean of x mean of y \n",
       " 3.353513  3.776786 \n"
      ]
     },
     "metadata": {},
     "output_type": "display_data"
    }
   ],
   "source": [
    "sum(BusinessAcceptsCreditCards=='')\n",
    "value=which(BusinessAcceptsCreditCards!='')\n",
    "aggregate(stars[value],list(CreditCard=BusinessAcceptsCreditCards[value]),mean)\n",
    "t.test(stars[BusinessAcceptsCreditCards=='True'],stars[BusinessAcceptsCreditCards=='False'])"
   ]
  },
  {
   "cell_type": "markdown",
   "metadata": {},
   "source": [
    "The result shows that the mean rating of restaurants that accept credit cards is lower than others. But considering that the percentage of restaurants that do not accept credit cards is quite low (about 4%), there may be some special situations that influence the result."
   ]
  },
  {
   "cell_type": "markdown",
   "metadata": {},
   "source": [
    "# Good for Kids"
   ]
  },
  {
   "cell_type": "code",
   "execution_count": 14,
   "metadata": {},
   "outputs": [
    {
     "data": {
      "text/html": [
       "305"
      ],
      "text/latex": [
       "305"
      ],
      "text/markdown": [
       "305"
      ],
      "text/plain": [
       "[1] 305"
      ]
     },
     "metadata": {},
     "output_type": "display_data"
    },
    {
     "data": {
      "text/html": [
       "<table>\n",
       "<caption>A data.frame: 2 × 2</caption>\n",
       "<thead>\n",
       "\t<tr><th scope=col>Kids</th><th scope=col>x</th></tr>\n",
       "\t<tr><th scope=col>&lt;chr&gt;</th><th scope=col>&lt;dbl&gt;</th></tr>\n",
       "</thead>\n",
       "<tbody>\n",
       "\t<tr><td>False</td><td>3.186335</td></tr>\n",
       "\t<tr><td>True </td><td>3.420018</td></tr>\n",
       "</tbody>\n",
       "</table>\n"
      ],
      "text/latex": [
       "A data.frame: 2 × 2\n",
       "\\begin{tabular}{ll}\n",
       " Kids & x\\\\\n",
       " <chr> & <dbl>\\\\\n",
       "\\hline\n",
       "\t False & 3.186335\\\\\n",
       "\t True  & 3.420018\\\\\n",
       "\\end{tabular}\n"
      ],
      "text/markdown": [
       "\n",
       "A data.frame: 2 × 2\n",
       "\n",
       "| Kids &lt;chr&gt; | x &lt;dbl&gt; |\n",
       "|---|---|\n",
       "| False | 3.186335 |\n",
       "| True  | 3.420018 |\n",
       "\n"
      ],
      "text/plain": [
       "  Kids  x       \n",
       "1 False 3.186335\n",
       "2 True  3.420018"
      ]
     },
     "metadata": {},
     "output_type": "display_data"
    },
    {
     "data": {
      "text/plain": [
       "\n",
       "\tWelch Two Sample t-test\n",
       "\n",
       "data:  stars[GoodForKids == \"True\"] and stars[GoodForKids == \"False\"]\n",
       "t = 3.2033, df = 195.52, p-value = 0.001586\n",
       "alternative hypothesis: true difference in means is not equal to 0\n",
       "95 percent confidence interval:\n",
       " 0.08981198 0.37755377\n",
       "sample estimates:\n",
       "mean of x mean of y \n",
       " 3.420018  3.186335 \n"
      ]
     },
     "metadata": {},
     "output_type": "display_data"
    }
   ],
   "source": [
    "sum(GoodForKids=='')\n",
    "value=which(GoodForKids!='')\n",
    "aggregate(stars[value],list(Kids=GoodForKids[value]),mean)\n",
    "t.test(stars[GoodForKids=='True'],stars[GoodForKids=='False'])"
   ]
  },
  {
   "cell_type": "markdown",
   "metadata": {},
   "source": [
    "Providing facilities for kids are expected to increase the average rating by 0.23 stars. It seems that people like eating pizza with their kids, so we suggest that restaurants could prepare something like child seats, toys, or pizza for children, if possible."
   ]
  },
  {
   "cell_type": "markdown",
   "metadata": {},
   "source": [
    "# TV"
   ]
  },
  {
   "cell_type": "code",
   "execution_count": 15,
   "metadata": {},
   "outputs": [
    {
     "data": {
      "text/html": [
       "359"
      ],
      "text/latex": [
       "359"
      ],
      "text/markdown": [
       "359"
      ],
      "text/plain": [
       "[1] 359"
      ]
     },
     "metadata": {},
     "output_type": "display_data"
    },
    {
     "data": {
      "text/html": [
       "<table>\n",
       "<caption>A data.frame: 2 × 2</caption>\n",
       "<thead>\n",
       "\t<tr><th scope=col>TV</th><th scope=col>x</th></tr>\n",
       "\t<tr><th scope=col>&lt;chr&gt;</th><th scope=col>&lt;dbl&gt;</th></tr>\n",
       "</thead>\n",
       "<tbody>\n",
       "\t<tr><td>False</td><td>3.548701</td></tr>\n",
       "\t<tr><td>True </td><td>3.432665</td></tr>\n",
       "</tbody>\n",
       "</table>\n"
      ],
      "text/latex": [
       "A data.frame: 2 × 2\n",
       "\\begin{tabular}{ll}\n",
       " TV & x\\\\\n",
       " <chr> & <dbl>\\\\\n",
       "\\hline\n",
       "\t False & 3.548701\\\\\n",
       "\t True  & 3.432665\\\\\n",
       "\\end{tabular}\n"
      ],
      "text/markdown": [
       "\n",
       "A data.frame: 2 × 2\n",
       "\n",
       "| TV &lt;chr&gt; | x &lt;dbl&gt; |\n",
       "|---|---|\n",
       "| False | 3.548701 |\n",
       "| True  | 3.432665 |\n",
       "\n"
      ],
      "text/plain": [
       "  TV    x       \n",
       "1 False 3.548701\n",
       "2 True  3.432665"
      ]
     },
     "metadata": {},
     "output_type": "display_data"
    },
    {
     "data": {
      "text/plain": [
       "\n",
       "\tWelch Two Sample t-test\n",
       "\n",
       "data:  stars[HasTV == \"True\"] and stars[HasTV == \"False\"]\n",
       "t = -1.6587, df = 189.94, p-value = 0.09882\n",
       "alternative hypothesis: true difference in means is not equal to 0\n",
       "95 percent confidence interval:\n",
       " -0.25402412  0.02195103\n",
       "sample estimates:\n",
       "mean of x mean of y \n",
       " 3.432665  3.548701 \n"
      ]
     },
     "metadata": {},
     "output_type": "display_data"
    }
   ],
   "source": [
    "sum(HasTV=='')\n",
    "value=which(HasTV!='')\n",
    "aggregate(stars[value],list(TV=HasTV[value]),mean)\n",
    "t.test(stars[HasTV=='True'],stars[HasTV=='False'])"
   ]
  },
  {
   "cell_type": "markdown",
   "metadata": {},
   "source": [
    "Given the p-value of 0.099, having TVs do not significantly affect the restaurant ratings ($\\alpha$=0.05)."
   ]
  },
  {
   "cell_type": "markdown",
   "metadata": {},
   "source": [
    "# Noise"
   ]
  },
  {
   "cell_type": "code",
   "execution_count": 17,
   "metadata": {},
   "outputs": [
    {
     "data": {
      "text/html": [
       "590"
      ],
      "text/latex": [
       "590"
      ],
      "text/markdown": [
       "590"
      ],
      "text/plain": [
       "[1] 590"
      ]
     },
     "metadata": {},
     "output_type": "display_data"
    },
    {
     "data": {
      "text/html": [
       "<table>\n",
       "<caption>A data.frame: 4 × 2</caption>\n",
       "<thead>\n",
       "\t<tr><th scope=col>Noise</th><th scope=col>x</th></tr>\n",
       "\t<tr><th scope=col>&lt;chr&gt;</th><th scope=col>&lt;dbl&gt;</th></tr>\n",
       "</thead>\n",
       "<tbody>\n",
       "\t<tr><td>average  </td><td>3.517665</td></tr>\n",
       "\t<tr><td>loud     </td><td>3.296053</td></tr>\n",
       "\t<tr><td>quiet    </td><td>3.430952</td></tr>\n",
       "\t<tr><td>very_loud</td><td>3.045455</td></tr>\n",
       "</tbody>\n",
       "</table>\n"
      ],
      "text/latex": [
       "A data.frame: 4 × 2\n",
       "\\begin{tabular}{ll}\n",
       " Noise & x\\\\\n",
       " <chr> & <dbl>\\\\\n",
       "\\hline\n",
       "\t average   & 3.517665\\\\\n",
       "\t loud      & 3.296053\\\\\n",
       "\t quiet     & 3.430952\\\\\n",
       "\t very\\_loud & 3.045455\\\\\n",
       "\\end{tabular}\n"
      ],
      "text/markdown": [
       "\n",
       "A data.frame: 4 × 2\n",
       "\n",
       "| Noise &lt;chr&gt; | x &lt;dbl&gt; |\n",
       "|---|---|\n",
       "| average   | 3.517665 |\n",
       "| loud      | 3.296053 |\n",
       "| quiet     | 3.430952 |\n",
       "| very_loud | 3.045455 |\n",
       "\n"
      ],
      "text/plain": [
       "  Noise     x       \n",
       "1 average   3.517665\n",
       "2 loud      3.296053\n",
       "3 quiet     3.430952\n",
       "4 very_loud 3.045455"
      ]
     },
     "metadata": {},
     "output_type": "display_data"
    },
    {
     "data": {
      "text/html": [
       "<table>\n",
       "<caption>A anova: 2 × 5</caption>\n",
       "<thead>\n",
       "\t<tr><th></th><th scope=col>Df</th><th scope=col>Sum Sq</th><th scope=col>Mean Sq</th><th scope=col>F value</th><th scope=col>Pr(&gt;F)</th></tr>\n",
       "\t<tr><th></th><th scope=col>&lt;int&gt;</th><th scope=col>&lt;dbl&gt;</th><th scope=col>&lt;dbl&gt;</th><th scope=col>&lt;dbl&gt;</th><th scope=col>&lt;dbl&gt;</th></tr>\n",
       "</thead>\n",
       "<tbody>\n",
       "\t<tr><th scope=row>NoiseLevel[value]</th><td>  3</td><td> 10.02675</td><td>3.3422489</td><td>6.83932</td><td>0.0001461442</td></tr>\n",
       "\t<tr><th scope=row>Residuals</th><td>966</td><td>472.06629</td><td>0.4886815</td><td>     NA</td><td>          NA</td></tr>\n",
       "</tbody>\n",
       "</table>\n"
      ],
      "text/latex": [
       "A anova: 2 × 5\n",
       "\\begin{tabular}{r|lllll}\n",
       "  & Df & Sum Sq & Mean Sq & F value & Pr(>F)\\\\\n",
       "  & <int> & <dbl> & <dbl> & <dbl> & <dbl>\\\\\n",
       "\\hline\n",
       "\tNoiseLevel{[}value{]} &   3 &  10.02675 & 3.3422489 & 6.83932 & 0.0001461442\\\\\n",
       "\tResiduals & 966 & 472.06629 & 0.4886815 &      NA &           NA\\\\\n",
       "\\end{tabular}\n"
      ],
      "text/markdown": [
       "\n",
       "A anova: 2 × 5\n",
       "\n",
       "| <!--/--> | Df &lt;int&gt; | Sum Sq &lt;dbl&gt; | Mean Sq &lt;dbl&gt; | F value &lt;dbl&gt; | Pr(&gt;F) &lt;dbl&gt; |\n",
       "|---|---|---|---|---|---|\n",
       "| NoiseLevel[value] |   3 |  10.02675 | 3.3422489 | 6.83932 | 0.0001461442 |\n",
       "| Residuals | 966 | 472.06629 | 0.4886815 |      NA |           NA |\n",
       "\n"
      ],
      "text/plain": [
       "                  Df  Sum Sq    Mean Sq   F value Pr(>F)      \n",
       "NoiseLevel[value]   3  10.02675 3.3422489 6.83932 0.0001461442\n",
       "Residuals         966 472.06629 0.4886815      NA           NA"
      ]
     },
     "metadata": {},
     "output_type": "display_data"
    },
    {
     "data": {
      "text/plain": [
       "\n",
       "\tWelch Two Sample t-test\n",
       "\n",
       "data:  stars[NoiseLevel == \"quiet\"] and stars[NoiseLevel == \"average\"]\n",
       "t = -1.5023, df = 328.77, p-value = 0.134\n",
       "alternative hypothesis: true difference in means is not equal to 0\n",
       "95 percent confidence interval:\n",
       " -0.20025632  0.02683082\n",
       "sample estimates:\n",
       "mean of x mean of y \n",
       " 3.430952  3.517665 \n"
      ]
     },
     "metadata": {},
     "output_type": "display_data"
    },
    {
     "data": {
      "text/plain": [
       "\n",
       "\tWelch Two Sample t-test\n",
       "\n",
       "data:  stars[NoiseLevel == \"average\"] and stars[NoiseLevel == \"loud\"]\n",
       "t = 2.6095, df = 92.021, p-value = 0.01058\n",
       "alternative hypothesis: true difference in means is not equal to 0\n",
       "95 percent confidence interval:\n",
       " 0.05294361 0.39028139\n",
       "sample estimates:\n",
       "mean of x mean of y \n",
       " 3.517665  3.296053 \n"
      ]
     },
     "metadata": {},
     "output_type": "display_data"
    },
    {
     "data": {
      "text/plain": [
       "\n",
       "\tWelch Two Sample t-test\n",
       "\n",
       "data:  stars[NoiseLevel == \"loud\"] and stars[NoiseLevel == \"very_loud\"]\n",
       "t = 1.5375, df = 53.717, p-value = 0.13\n",
       "alternative hypothesis: true difference in means is not equal to 0\n",
       "95 percent confidence interval:\n",
       " -0.07621428  0.57741045\n",
       "sample estimates:\n",
       "mean of x mean of y \n",
       " 3.296053  3.045455 \n"
      ]
     },
     "metadata": {},
     "output_type": "display_data"
    },
    {
     "data": {
      "text/plain": [
       "\n",
       "\tWelch Two Sample t-test\n",
       "\n",
       "data:  stars[NoiseLevel == \"average\" | NoiseLevel == \"quiet\"] and stars[NoiseLevel == \"loud\" | NoiseLevel == \"very_loud\"]\n",
       "t = 3.6818, df = 132.98, p-value = 0.0003357\n",
       "alternative hypothesis: true difference in means is not equal to 0\n",
       "95 percent confidence interval:\n",
       " 0.1278777 0.4247867\n",
       "sample estimates:\n",
       "mean of x mean of y \n",
       " 3.496516  3.220183 \n"
      ]
     },
     "metadata": {},
     "output_type": "display_data"
    }
   ],
   "source": [
    "sum(NoiseLevel=='')\n",
    "value=which(NoiseLevel!='')\n",
    "aggregate(stars[value],list(Noise=NoiseLevel[value]),mean)\n",
    "anova(lm(stars[value]~NoiseLevel[value]))\n",
    "t.test(stars[NoiseLevel=='quiet'],stars[NoiseLevel=='average'])\n",
    "t.test(stars[NoiseLevel=='average'],stars[NoiseLevel=='loud'])\n",
    "t.test(stars[NoiseLevel=='loud'],stars[NoiseLevel=='very_loud'])\n",
    "t.test(stars[NoiseLevel=='average'|NoiseLevel=='quiet'],stars[NoiseLevel=='loud'|NoiseLevel=='very_loud'])"
   ]
  },
  {
   "cell_type": "markdown",
   "metadata": {},
   "source": [
    "From the results of ANOVA and T-tests, we find that the rating of restaurant would decrease if the noise is above 'loud' level. The average rating of 'loud' and 'very loud' restaurants is 0.28 stars lower than 'quiet' and 'average' ones. Therefore, turn down the audio system if it is too loud."
   ]
  },
  {
   "cell_type": "markdown",
   "metadata": {},
   "source": [
    "# Delivery"
   ]
  },
  {
   "cell_type": "code",
   "execution_count": 18,
   "metadata": {},
   "outputs": [
    {
     "data": {
      "text/html": [
       "170"
      ],
      "text/latex": [
       "170"
      ],
      "text/markdown": [
       "170"
      ],
      "text/plain": [
       "[1] 170"
      ]
     },
     "metadata": {},
     "output_type": "display_data"
    },
    {
     "data": {
      "text/html": [
       "<table>\n",
       "<caption>A data.frame: 2 × 2</caption>\n",
       "<thead>\n",
       "\t<tr><th scope=col>Delivery</th><th scope=col>x</th></tr>\n",
       "\t<tr><th scope=col>&lt;chr&gt;</th><th scope=col>&lt;dbl&gt;</th></tr>\n",
       "</thead>\n",
       "<tbody>\n",
       "\t<tr><td>False</td><td>3.763533</td></tr>\n",
       "\t<tr><td>True </td><td>3.231954</td></tr>\n",
       "</tbody>\n",
       "</table>\n"
      ],
      "text/latex": [
       "A data.frame: 2 × 2\n",
       "\\begin{tabular}{ll}\n",
       " Delivery & x\\\\\n",
       " <chr> & <dbl>\\\\\n",
       "\\hline\n",
       "\t False & 3.763533\\\\\n",
       "\t True  & 3.231954\\\\\n",
       "\\end{tabular}\n"
      ],
      "text/markdown": [
       "\n",
       "A data.frame: 2 × 2\n",
       "\n",
       "| Delivery &lt;chr&gt; | x &lt;dbl&gt; |\n",
       "|---|---|\n",
       "| False | 3.763533 |\n",
       "| True  | 3.231954 |\n",
       "\n"
      ],
      "text/plain": [
       "  Delivery x       \n",
       "1 False    3.763533\n",
       "2 True     3.231954"
      ]
     },
     "metadata": {},
     "output_type": "display_data"
    },
    {
     "data": {
      "text/plain": [
       "\n",
       "\tWelch Two Sample t-test\n",
       "\n",
       "data:  stars[RestaurantsDelivery == \"True\"] and stars[RestaurantsDelivery == \"False\"]\n",
       "t = -12.638, df = 765.85, p-value < 2.2e-16\n",
       "alternative hypothesis: true difference in means is not equal to 0\n",
       "95 percent confidence interval:\n",
       " -0.6141486 -0.4490093\n",
       "sample estimates:\n",
       "mean of x mean of y \n",
       " 3.231954  3.763533 \n"
      ]
     },
     "metadata": {},
     "output_type": "display_data"
    }
   ],
   "source": [
    "sum(RestaurantsDelivery=='')\n",
    "value=which(RestaurantsDelivery!='')\n",
    "aggregate(stars[value],list(Delivery=RestaurantsDelivery[value]),mean)\n",
    "t.test(stars[RestaurantsDelivery=='True'],stars[RestaurantsDelivery=='False'])"
   ]
  },
  {
   "cell_type": "markdown",
   "metadata": {},
   "source": [
    "The result shows that restaurants that providing food delivery get significantly lower ratings. Probably it is because pizza is not good for delivery (it may take too long time), or people cannot express their needs clearly to the restaurant when placing the order. However, this result is quite hard to explain since it may include some other problems. If there are a large number of orders for food delivery, just keep it."
   ]
  },
  {
   "cell_type": "markdown",
   "metadata": {},
   "source": [
    "# Good for Groups"
   ]
  },
  {
   "cell_type": "code",
   "execution_count": 19,
   "metadata": {},
   "outputs": [
    {
     "data": {
      "text/html": [
       "292"
      ],
      "text/latex": [
       "292"
      ],
      "text/markdown": [
       "292"
      ],
      "text/plain": [
       "[1] 292"
      ]
     },
     "metadata": {},
     "output_type": "display_data"
    },
    {
     "data": {
      "text/html": [
       "<table>\n",
       "<caption>A data.frame: 2 × 2</caption>\n",
       "<thead>\n",
       "\t<tr><th scope=col>Groups</th><th scope=col>x</th></tr>\n",
       "\t<tr><th scope=col>&lt;chr&gt;</th><th scope=col>&lt;dbl&gt;</th></tr>\n",
       "</thead>\n",
       "<tbody>\n",
       "\t<tr><td>False</td><td>3.222039</td></tr>\n",
       "\t<tr><td>True </td><td>3.437241</td></tr>\n",
       "</tbody>\n",
       "</table>\n"
      ],
      "text/latex": [
       "A data.frame: 2 × 2\n",
       "\\begin{tabular}{ll}\n",
       " Groups & x\\\\\n",
       " <chr> & <dbl>\\\\\n",
       "\\hline\n",
       "\t False & 3.222039\\\\\n",
       "\t True  & 3.437241\\\\\n",
       "\\end{tabular}\n"
      ],
      "text/markdown": [
       "\n",
       "A data.frame: 2 × 2\n",
       "\n",
       "| Groups &lt;chr&gt; | x &lt;dbl&gt; |\n",
       "|---|---|\n",
       "| False | 3.222039 |\n",
       "| True  | 3.437241 |\n",
       "\n"
      ],
      "text/plain": [
       "  Groups x       \n",
       "1 False  3.222039\n",
       "2 True   3.437241"
      ]
     },
     "metadata": {},
     "output_type": "display_data"
    },
    {
     "data": {
      "text/plain": [
       "\n",
       "\tWelch Two Sample t-test\n",
       "\n",
       "data:  stars[RestaurantsGoodForGroups == \"True\"] and stars[RestaurantsGoodForGroups == \"False\"]\n",
       "t = 3.9028, df = 447.04, p-value = 0.0001097\n",
       "alternative hypothesis: true difference in means is not equal to 0\n",
       "95 percent confidence interval:\n",
       " 0.1068360 0.3235664\n",
       "sample estimates:\n",
       "mean of x mean of y \n",
       " 3.437241  3.222039 \n"
      ]
     },
     "metadata": {},
     "output_type": "display_data"
    }
   ],
   "source": [
    "sum(RestaurantsGoodForGroups=='')\n",
    "value=which(RestaurantsGoodForGroups!='')\n",
    "aggregate(stars[value],list(Groups=RestaurantsGoodForGroups[value]),mean)\n",
    "t.test(stars[RestaurantsGoodForGroups=='True'],stars[RestaurantsGoodForGroups=='False'])"
   ]
  },
  {
   "cell_type": "markdown",
   "metadata": {},
   "source": [
    "The average rating of a restaurant would increase by 0.22 stars if it is good for groups. So try to make a small area for groups, like putting some large tables, if possible."
   ]
  },
  {
   "cell_type": "markdown",
   "metadata": {},
   "source": [
    "# Reservation"
   ]
  },
  {
   "cell_type": "code",
   "execution_count": 21,
   "metadata": {},
   "outputs": [
    {
     "data": {
      "text/html": [
       "234"
      ],
      "text/latex": [
       "234"
      ],
      "text/markdown": [
       "234"
      ],
      "text/plain": [
       "[1] 234"
      ]
     },
     "metadata": {},
     "output_type": "display_data"
    },
    {
     "data": {
      "text/html": [
       "<table>\n",
       "<caption>A data.frame: 2 × 2</caption>\n",
       "<thead>\n",
       "\t<tr><th scope=col>Reservation</th><th scope=col>x</th></tr>\n",
       "\t<tr><th scope=col>&lt;chr&gt;</th><th scope=col>&lt;dbl&gt;</th></tr>\n",
       "</thead>\n",
       "<tbody>\n",
       "\t<tr><td>False</td><td>3.329315</td></tr>\n",
       "\t<tr><td>True </td><td>3.539792</td></tr>\n",
       "</tbody>\n",
       "</table>\n"
      ],
      "text/latex": [
       "A data.frame: 2 × 2\n",
       "\\begin{tabular}{ll}\n",
       " Reservation & x\\\\\n",
       " <chr> & <dbl>\\\\\n",
       "\\hline\n",
       "\t False & 3.329315\\\\\n",
       "\t True  & 3.539792\\\\\n",
       "\\end{tabular}\n"
      ],
      "text/markdown": [
       "\n",
       "A data.frame: 2 × 2\n",
       "\n",
       "| Reservation &lt;chr&gt; | x &lt;dbl&gt; |\n",
       "|---|---|\n",
       "| False | 3.329315 |\n",
       "| True  | 3.539792 |\n",
       "\n"
      ],
      "text/plain": [
       "  Reservation x       \n",
       "1 False       3.329315\n",
       "2 True        3.539792"
      ]
     },
     "metadata": {},
     "output_type": "display_data"
    },
    {
     "data": {
      "text/plain": [
       "\n",
       "\tWelch Two Sample t-test\n",
       "\n",
       "data:  stars[RestaurantsReservations == \"True\"] and stars[RestaurantsReservations == \"False\"]\n",
       "t = 4.5435, df = 553.51, p-value = 6.796e-06\n",
       "alternative hypothesis: true difference in means is not equal to 0\n",
       "95 percent confidence interval:\n",
       " 0.1194837 0.3014705\n",
       "sample estimates:\n",
       "mean of x mean of y \n",
       " 3.539792  3.329315 \n"
      ]
     },
     "metadata": {},
     "output_type": "display_data"
    }
   ],
   "source": [
    "sum(RestaurantsReservations=='')\n",
    "value=which(RestaurantsReservations!='')\n",
    "aggregate(stars[value],list(Reservation=RestaurantsReservations[value]),mean)\n",
    "t.test(stars[RestaurantsReservations=='True'],stars[RestaurantsReservations=='False'])"
   ]
  },
  {
   "cell_type": "markdown",
   "metadata": {},
   "source": [
    "The restaurants that accept reservations receive higher ratings (0.21 stars) than others. So we suggest restaurants making reservations accessible."
   ]
  },
  {
   "cell_type": "markdown",
   "metadata": {},
   "source": [
    "# Takeout"
   ]
  },
  {
   "cell_type": "code",
   "execution_count": 22,
   "metadata": {},
   "outputs": [
    {
     "data": {
      "text/html": [
       "157"
      ],
      "text/latex": [
       "157"
      ],
      "text/markdown": [
       "157"
      ],
      "text/plain": [
       "[1] 157"
      ]
     },
     "metadata": {},
     "output_type": "display_data"
    },
    {
     "data": {
      "text/html": [
       "<table>\n",
       "<caption>A data.frame: 2 × 2</caption>\n",
       "<thead>\n",
       "\t<tr><th scope=col>Takeout</th><th scope=col>x</th></tr>\n",
       "\t<tr><th scope=col>&lt;chr&gt;</th><th scope=col>&lt;dbl&gt;</th></tr>\n",
       "</thead>\n",
       "<tbody>\n",
       "\t<tr><td>False</td><td>3.555556</td></tr>\n",
       "\t<tr><td>True </td><td>3.364260</td></tr>\n",
       "</tbody>\n",
       "</table>\n"
      ],
      "text/latex": [
       "A data.frame: 2 × 2\n",
       "\\begin{tabular}{ll}\n",
       " Takeout & x\\\\\n",
       " <chr> & <dbl>\\\\\n",
       "\\hline\n",
       "\t False & 3.555556\\\\\n",
       "\t True  & 3.364260\\\\\n",
       "\\end{tabular}\n"
      ],
      "text/markdown": [
       "\n",
       "A data.frame: 2 × 2\n",
       "\n",
       "| Takeout &lt;chr&gt; | x &lt;dbl&gt; |\n",
       "|---|---|\n",
       "| False | 3.555556 |\n",
       "| True  | 3.364260 |\n",
       "\n"
      ],
      "text/plain": [
       "  Takeout x       \n",
       "1 False   3.555556\n",
       "2 True    3.364260"
      ]
     },
     "metadata": {},
     "output_type": "display_data"
    },
    {
     "data": {
      "text/plain": [
       "\n",
       "\tWelch Two Sample t-test\n",
       "\n",
       "data:  stars[RestaurantsTakeOut == \"True\"] and stars[RestaurantsTakeOut == \"False\"]\n",
       "t = -0.73756, df = 17.234, p-value = 0.4707\n",
       "alternative hypothesis: true difference in means is not equal to 0\n",
       "95 percent confidence interval:\n",
       " -0.7379403  0.3553490\n",
       "sample estimates:\n",
       "mean of x mean of y \n",
       " 3.364260  3.555556 \n"
      ]
     },
     "metadata": {},
     "output_type": "display_data"
    }
   ],
   "source": [
    "sum(RestaurantsTakeOut=='')\n",
    "value=which(RestaurantsTakeOut!='')\n",
    "aggregate(stars[value],list(Takeout=RestaurantsTakeOut[value]),mean)\n",
    "t.test(stars[RestaurantsTakeOut=='True'],stars[RestaurantsTakeOut=='False'])"
   ]
  },
  {
   "cell_type": "markdown",
   "metadata": {},
   "source": [
    "The percentage of restaurants without takeout is too low (about 1.2%), so the result seems meaningless."
   ]
  },
  {
   "cell_type": "markdown",
   "metadata": {},
   "source": [
    "# Wifi"
   ]
  },
  {
   "cell_type": "code",
   "execution_count": 24,
   "metadata": {},
   "outputs": [
    {
     "data": {
      "text/html": [
       "556"
      ],
      "text/latex": [
       "556"
      ],
      "text/markdown": [
       "556"
      ],
      "text/plain": [
       "[1] 556"
      ]
     },
     "metadata": {},
     "output_type": "display_data"
    },
    {
     "data": {
      "text/html": [
       "<table>\n",
       "<caption>A data.frame: 3 × 2</caption>\n",
       "<thead>\n",
       "\t<tr><th scope=col>Wifi</th><th scope=col>x</th></tr>\n",
       "\t<tr><th scope=col>&lt;chr&gt;</th><th scope=col>&lt;dbl&gt;</th></tr>\n",
       "</thead>\n",
       "<tbody>\n",
       "\t<tr><td>free</td><td>3.593240</td></tr>\n",
       "\t<tr><td>no  </td><td>3.423145</td></tr>\n",
       "\t<tr><td>paid</td><td>3.388889</td></tr>\n",
       "</tbody>\n",
       "</table>\n"
      ],
      "text/latex": [
       "A data.frame: 3 × 2\n",
       "\\begin{tabular}{ll}\n",
       " Wifi & x\\\\\n",
       " <chr> & <dbl>\\\\\n",
       "\\hline\n",
       "\t free & 3.593240\\\\\n",
       "\t no   & 3.423145\\\\\n",
       "\t paid & 3.388889\\\\\n",
       "\\end{tabular}\n"
      ],
      "text/markdown": [
       "\n",
       "A data.frame: 3 × 2\n",
       "\n",
       "| Wifi &lt;chr&gt; | x &lt;dbl&gt; |\n",
       "|---|---|\n",
       "| free | 3.593240 |\n",
       "| no   | 3.423145 |\n",
       "| paid | 3.388889 |\n",
       "\n"
      ],
      "text/plain": [
       "  Wifi x       \n",
       "1 free 3.593240\n",
       "2 no   3.423145\n",
       "3 paid 3.388889"
      ]
     },
     "metadata": {},
     "output_type": "display_data"
    },
    {
     "data": {
      "text/html": [
       "<table>\n",
       "<caption>A anova: 2 × 5</caption>\n",
       "<thead>\n",
       "\t<tr><th></th><th scope=col>Df</th><th scope=col>Sum Sq</th><th scope=col>Mean Sq</th><th scope=col>F value</th><th scope=col>Pr(&gt;F)</th></tr>\n",
       "\t<tr><th></th><th scope=col>&lt;int&gt;</th><th scope=col>&lt;dbl&gt;</th><th scope=col>&lt;dbl&gt;</th><th scope=col>&lt;dbl&gt;</th><th scope=col>&lt;dbl&gt;</th></tr>\n",
       "</thead>\n",
       "<tbody>\n",
       "\t<tr><th scope=row>WiFi[value]</th><td>   2</td><td>  7.163743</td><td>3.5818717</td><td>6.947664</td><td>0.001007903</td></tr>\n",
       "\t<tr><th scope=row>Residuals</th><td>1001</td><td>516.066087</td><td>0.5155505</td><td>      NA</td><td>         NA</td></tr>\n",
       "</tbody>\n",
       "</table>\n"
      ],
      "text/latex": [
       "A anova: 2 × 5\n",
       "\\begin{tabular}{r|lllll}\n",
       "  & Df & Sum Sq & Mean Sq & F value & Pr(>F)\\\\\n",
       "  & <int> & <dbl> & <dbl> & <dbl> & <dbl>\\\\\n",
       "\\hline\n",
       "\tWiFi{[}value{]} &    2 &   7.163743 & 3.5818717 & 6.947664 & 0.001007903\\\\\n",
       "\tResiduals & 1001 & 516.066087 & 0.5155505 &       NA &          NA\\\\\n",
       "\\end{tabular}\n"
      ],
      "text/markdown": [
       "\n",
       "A anova: 2 × 5\n",
       "\n",
       "| <!--/--> | Df &lt;int&gt; | Sum Sq &lt;dbl&gt; | Mean Sq &lt;dbl&gt; | F value &lt;dbl&gt; | Pr(&gt;F) &lt;dbl&gt; |\n",
       "|---|---|---|---|---|---|\n",
       "| WiFi[value] |    2 |   7.163743 | 3.5818717 | 6.947664 | 0.001007903 |\n",
       "| Residuals | 1001 | 516.066087 | 0.5155505 |       NA |          NA |\n",
       "\n"
      ],
      "text/plain": [
       "            Df   Sum Sq     Mean Sq   F value  Pr(>F)     \n",
       "WiFi[value]    2   7.163743 3.5818717 6.947664 0.001007903\n",
       "Residuals   1001 516.066087 0.5155505       NA          NA"
      ]
     },
     "metadata": {},
     "output_type": "display_data"
    },
    {
     "data": {
      "text/plain": [
       "\n",
       "\tWelch Two Sample t-test\n",
       "\n",
       "data:  stars[WiFi == \"no\"] and stars[WiFi == \"free\"]\n",
       "t = -3.7883, df = 971.57, p-value = 0.000161\n",
       "alternative hypothesis: true difference in means is not equal to 0\n",
       "95 percent confidence interval:\n",
       " -0.25820722 -0.08198322\n",
       "sample estimates:\n",
       "mean of x mean of y \n",
       " 3.423145  3.593240 \n"
      ]
     },
     "metadata": {},
     "output_type": "display_data"
    }
   ],
   "source": [
    "sum(WiFi=='')\n",
    "value=which(WiFi!='')\n",
    "aggregate(stars[value],list(Wifi=WiFi[value]),mean)\n",
    "anova(lm(stars[value]~WiFi[value]))\n",
    "t.test(stars[WiFi=='no'],stars[WiFi=='free'])"
   ]
  },
  {
   "cell_type": "markdown",
   "metadata": {},
   "source": [
    "There are few restaurants with paid WiFi, so we ignore them. The average rating of restaurants with free WiFi is 0.17 stars higher than ones without WiFi. We suggest that restaurants could offer free WiFi if it does not cost too much."
   ]
  },
  {
   "cell_type": "markdown",
   "metadata": {},
   "source": [
    "# Ambience"
   ]
  },
  {
   "cell_type": "code",
   "execution_count": 25,
   "metadata": {},
   "outputs": [
    {
     "data": {
      "text/html": [
       "371"
      ],
      "text/latex": [
       "371"
      ],
      "text/markdown": [
       "371"
      ],
      "text/plain": [
       "[1] 371"
      ]
     },
     "metadata": {},
     "output_type": "display_data"
    },
    {
     "data": {
      "text/html": [
       "<table>\n",
       "<caption>A data.frame: 2 × 2</caption>\n",
       "<thead>\n",
       "\t<tr><th scope=col>Casual</th><th scope=col>x</th></tr>\n",
       "\t<tr><th scope=col>&lt;chr&gt;</th><th scope=col>&lt;dbl&gt;</th></tr>\n",
       "</thead>\n",
       "<tbody>\n",
       "\t<tr><td>False</td><td>3.370948</td></tr>\n",
       "\t<tr><td>True </td><td>3.652455</td></tr>\n",
       "</tbody>\n",
       "</table>\n"
      ],
      "text/latex": [
       "A data.frame: 2 × 2\n",
       "\\begin{tabular}{ll}\n",
       " Casual & x\\\\\n",
       " <chr> & <dbl>\\\\\n",
       "\\hline\n",
       "\t False & 3.370948\\\\\n",
       "\t True  & 3.652455\\\\\n",
       "\\end{tabular}\n"
      ],
      "text/markdown": [
       "\n",
       "A data.frame: 2 × 2\n",
       "\n",
       "| Casual &lt;chr&gt; | x &lt;dbl&gt; |\n",
       "|---|---|\n",
       "| False | 3.370948 |\n",
       "| True  | 3.652455 |\n",
       "\n"
      ],
      "text/plain": [
       "  Casual x       \n",
       "1 False  3.370948\n",
       "2 True   3.652455"
      ]
     },
     "metadata": {},
     "output_type": "display_data"
    },
    {
     "data": {
      "text/plain": [
       "\n",
       "\tWelch Two Sample t-test\n",
       "\n",
       "data:  stars[Ambience_casual == \"True\"] and stars[Ambience_casual == \"False\"]\n",
       "t = 6.9302, df = 1000.5, p-value = 7.519e-12\n",
       "alternative hypothesis: true difference in means is not equal to 0\n",
       "95 percent confidence interval:\n",
       " 0.2017965 0.3612178\n",
       "sample estimates:\n",
       "mean of x mean of y \n",
       " 3.652455  3.370948 \n"
      ]
     },
     "metadata": {},
     "output_type": "display_data"
    },
    {
     "data": {
      "text/plain": [
       "\n",
       "\tWelch Two Sample t-test\n",
       "\n",
       "data:  stars[Ambience_classy == \"True\"] and stars[Ambience_classy == \"False\"]\n",
       "t = 2.002, df = 126.39, p-value = 0.04742\n",
       "alternative hypothesis: true difference in means is not equal to 0\n",
       "95 percent confidence interval:\n",
       " 0.001543203 0.265793804\n",
       "sample estimates:\n",
       "mean of x mean of y \n",
       " 3.585000  3.451331 \n"
      ]
     },
     "metadata": {},
     "output_type": "display_data"
    }
   ],
   "source": [
    "sum(Ambience_casual=='')\n",
    "value=which(Ambience_casual!='')\n",
    "aggregate(stars[value],list(Casual=Ambience_casual[value]),mean)\n",
    "t.test(stars[Ambience_casual=='True'],stars[Ambience_casual=='False'])\n",
    "t.test(stars[Ambience_classy=='True'],stars[Ambience_classy=='False'])"
   ]
  },
  {
   "cell_type": "markdown",
   "metadata": {},
   "source": [
    "We can see that restaurants with casual or classy ambience get higher ratings. But ambience reflects different styles and themes of restaurants, which is not necessary to change."
   ]
  },
  {
   "cell_type": "markdown",
   "metadata": {},
   "source": [
    "# Parking"
   ]
  },
  {
   "cell_type": "code",
   "execution_count": 26,
   "metadata": {},
   "outputs": [
    {
     "name": "stderr",
     "output_type": "stream",
     "text": [
      "The following objects are masked from bus (pos = 3):\n",
      "\n",
      "    Alcohol, Ambience, Ambience_casual, Ambience_classy,\n",
      "    Ambience_divey, Ambience_hipster, Ambience_intimate,\n",
      "    Ambience_romantic, Ambience_trendy, Ambience_upscale, BikeParking,\n",
      "    BusinessAcceptsCreditCards, BusinessParking,\n",
      "    BusinessParking_garage, BusinessParking_lot,\n",
      "    BusinessParking_street, BusinessParking_valet,\n",
      "    BusinessParking_validated, Caters, city, GoodForKids, GoodForMeal,\n",
      "    GoodForMeal_breakfast, GoodForMeal_brunch, GoodForMeal_dessert,\n",
      "    GoodForMeal_dinner, GoodForMeal_latenight, GoodForMeal_lunch,\n",
      "    HasTV, NoiseLevel, OutdoorSeating, RestaurantsAttire,\n",
      "    RestaurantsDelivery, RestaurantsGoodForGroups,\n",
      "    RestaurantsReservations, RestaurantsTakeOut, review_count, stars,\n",
      "    WiFi\n",
      "\n",
      "\n"
     ]
    },
    {
     "data": {
      "text/html": [
       "325"
      ],
      "text/latex": [
       "325"
      ],
      "text/markdown": [
       "325"
      ],
      "text/plain": [
       "[1] 325"
      ]
     },
     "metadata": {},
     "output_type": "display_data"
    },
    {
     "data": {
      "text/html": [
       "<table>\n",
       "<caption>A data.frame: 2 × 2</caption>\n",
       "<thead>\n",
       "\t<tr><th scope=col>Parking</th><th scope=col>x</th></tr>\n",
       "\t<tr><th scope=col>&lt;fct&gt;</th><th scope=col>&lt;dbl&gt;</th></tr>\n",
       "</thead>\n",
       "<tbody>\n",
       "\t<tr><td>False</td><td>3.238956</td></tr>\n",
       "\t<tr><td>True </td><td>3.593623</td></tr>\n",
       "</tbody>\n",
       "</table>\n"
      ],
      "text/latex": [
       "A data.frame: 2 × 2\n",
       "\\begin{tabular}{ll}\n",
       " Parking & x\\\\\n",
       " <fct> & <dbl>\\\\\n",
       "\\hline\n",
       "\t False & 3.238956\\\\\n",
       "\t True  & 3.593623\\\\\n",
       "\\end{tabular}\n"
      ],
      "text/markdown": [
       "\n",
       "A data.frame: 2 × 2\n",
       "\n",
       "| Parking &lt;fct&gt; | x &lt;dbl&gt; |\n",
       "|---|---|\n",
       "| False | 3.238956 |\n",
       "| True  | 3.593623 |\n",
       "\n"
      ],
      "text/plain": [
       "  Parking x       \n",
       "1 False   3.238956\n",
       "2 True    3.593623"
      ]
     },
     "metadata": {},
     "output_type": "display_data"
    },
    {
     "data": {
      "text/plain": [
       "\n",
       "\tWelch Two Sample t-test\n",
       "\n",
       "data:  stars[Parking == \"True\"] and stars[Parking == \"False\"]\n",
       "t = 7.9135, df = 864.64, p-value = 7.645e-15\n",
       "alternative hypothesis: true difference in means is not equal to 0\n",
       "95 percent confidence interval:\n",
       " 0.2667022 0.4426318\n",
       "sample estimates:\n",
       "mean of x mean of y \n",
       " 3.593623  3.238956 \n"
      ]
     },
     "metadata": {},
     "output_type": "display_data"
    }
   ],
   "source": [
    "for(i in 1:nrow(bus)){\n",
    "  if(sum(bus[i,27:31]=='False')==5){\n",
    "    bus$Parking[i]='False'\n",
    "  }else if(sum(bus[i,27:31]=='True')>0){\n",
    "    bus$Parking[i]='True'\n",
    "  }else{\n",
    "    bus$Parking[i]=''\n",
    "  }\n",
    "}\n",
    "attach(bus)\n",
    "\n",
    "Parking=factor(Parking)\n",
    "sum(Parking=='')\n",
    "value=which(Parking!='')\n",
    "aggregate(stars[value],list(Parking=Parking[value]),mean)\n",
    "t.test(stars[Parking=='True'],stars[Parking=='False'])"
   ]
  },
  {
   "cell_type": "markdown",
   "metadata": {},
   "source": [
    "We can see that having a parking space could increase the average rating by 0.36 stars. So we suggest that restaurants should try to offer a parking space, if possible.\n"
   ]
  },
  {
   "cell_type": "code",
   "execution_count": null,
   "metadata": {},
   "outputs": [],
   "source": []
  }
 ],
 "metadata": {
  "kernelspec": {
   "display_name": "R",
   "language": "R",
   "name": "ir"
  },
  "language_info": {
   "codemirror_mode": "r",
   "file_extension": ".r",
   "mimetype": "text/x-r-source",
   "name": "R",
   "pygments_lexer": "r",
   "version": "4.0.2"
  }
 },
 "nbformat": 4,
 "nbformat_minor": 4
}
